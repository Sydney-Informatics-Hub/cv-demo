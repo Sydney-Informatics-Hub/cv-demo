{
 "cells": [
  {
   "cell_type": "code",
   "execution_count": null,
   "id": "d5620d86-59dd-41e7-880b-3e4eccb60db6",
   "metadata": {},
   "outputs": [],
   "source": [
    "!git clone https://github.com/ultralytics/yolov5  # clone"
   ]
  },
  {
   "cell_type": "code",
   "execution_count": null,
   "id": "a72826c3-22a3-4b3e-83af-b1701fa9c7b7",
   "metadata": {},
   "outputs": [],
   "source": [
    "!cd yolov5\n",
    "!pip install -r yolov5/requirements.txt  # install"
   ]
  },
  {
   "cell_type": "code",
   "execution_count": null,
   "id": "f48bbc5e-ca82-4da7-bf75-a56908362de5",
   "metadata": {},
   "outputs": [],
   "source": [
    "!wget https://www.kaggle.com/datasets/aditya276/face-mask-dataset-yolo-format/download"
   ]
  },
  {
   "cell_type": "code",
   "execution_count": 1,
   "id": "885403ce-7daa-49e1-a54c-86dfa8ce7b29",
   "metadata": {},
   "outputs": [
    {
     "name": "stdout",
     "output_type": "stream",
     "text": [
      "Requirement already satisfied: matplotlib>=3.2.2 in /Users/henrylydecker/opt/anaconda3/envs/finetune/lib/python3.9/site-packages (from -r yolov5/requirements.txt (line 4)) (3.5.2)\n",
      "Requirement already satisfied: numpy>=1.18.5 in /Users/henrylydecker/opt/anaconda3/envs/finetune/lib/python3.9/site-packages (from -r yolov5/requirements.txt (line 5)) (1.22.3)\n",
      "Requirement already satisfied: opencv-python>=4.1.1 in /Users/henrylydecker/opt/anaconda3/envs/finetune/lib/python3.9/site-packages (from -r yolov5/requirements.txt (line 6)) (4.5.5.64)\n",
      "Requirement already satisfied: Pillow>=7.1.2 in /Users/henrylydecker/opt/anaconda3/envs/finetune/lib/python3.9/site-packages (from -r yolov5/requirements.txt (line 7)) (9.1.0)\n",
      "Requirement already satisfied: PyYAML>=5.3.1 in /Users/henrylydecker/opt/anaconda3/envs/finetune/lib/python3.9/site-packages (from -r yolov5/requirements.txt (line 8)) (6.0)\n",
      "Requirement already satisfied: requests>=2.23.0 in /Users/henrylydecker/opt/anaconda3/envs/finetune/lib/python3.9/site-packages (from -r yolov5/requirements.txt (line 9)) (2.27.1)\n",
      "Requirement already satisfied: scipy>=1.4.1 in /Users/henrylydecker/opt/anaconda3/envs/finetune/lib/python3.9/site-packages (from -r yolov5/requirements.txt (line 10)) (1.8.0)\n",
      "Requirement already satisfied: torch>=1.7.0 in /Users/henrylydecker/opt/anaconda3/envs/finetune/lib/python3.9/site-packages (from -r yolov5/requirements.txt (line 11)) (1.11.0)\n",
      "Requirement already satisfied: torchvision>=0.8.1 in /Users/henrylydecker/opt/anaconda3/envs/finetune/lib/python3.9/site-packages (from -r yolov5/requirements.txt (line 12)) (0.12.0)\n",
      "Requirement already satisfied: tqdm>=4.41.0 in /Users/henrylydecker/opt/anaconda3/envs/finetune/lib/python3.9/site-packages (from -r yolov5/requirements.txt (line 13)) (4.64.0)\n",
      "Requirement already satisfied: tensorboard>=2.4.1 in /Users/henrylydecker/opt/anaconda3/envs/finetune/lib/python3.9/site-packages (from -r yolov5/requirements.txt (line 16)) (2.9.0)\n",
      "Requirement already satisfied: pandas>=1.1.4 in /Users/henrylydecker/opt/anaconda3/envs/finetune/lib/python3.9/site-packages (from -r yolov5/requirements.txt (line 20)) (1.4.2)\n",
      "Requirement already satisfied: seaborn>=0.11.0 in /Users/henrylydecker/opt/anaconda3/envs/finetune/lib/python3.9/site-packages (from -r yolov5/requirements.txt (line 21)) (0.11.2)\n",
      "Requirement already satisfied: thop in /Users/henrylydecker/opt/anaconda3/envs/finetune/lib/python3.9/site-packages (from -r yolov5/requirements.txt (line 37)) (0.0.31.post2005241907)\n",
      "Requirement already satisfied: cycler>=0.10 in /Users/henrylydecker/opt/anaconda3/envs/finetune/lib/python3.9/site-packages (from matplotlib>=3.2.2->-r yolov5/requirements.txt (line 4)) (0.11.0)\n",
      "Requirement already satisfied: pyparsing>=2.2.1 in /Users/henrylydecker/opt/anaconda3/envs/finetune/lib/python3.9/site-packages (from matplotlib>=3.2.2->-r yolov5/requirements.txt (line 4)) (3.0.8)\n",
      "Requirement already satisfied: kiwisolver>=1.0.1 in /Users/henrylydecker/opt/anaconda3/envs/finetune/lib/python3.9/site-packages (from matplotlib>=3.2.2->-r yolov5/requirements.txt (line 4)) (1.4.2)\n",
      "Requirement already satisfied: fonttools>=4.22.0 in /Users/henrylydecker/opt/anaconda3/envs/finetune/lib/python3.9/site-packages (from matplotlib>=3.2.2->-r yolov5/requirements.txt (line 4)) (4.33.3)\n",
      "Requirement already satisfied: python-dateutil>=2.7 in /Users/henrylydecker/opt/anaconda3/envs/finetune/lib/python3.9/site-packages (from matplotlib>=3.2.2->-r yolov5/requirements.txt (line 4)) (2.8.2)\n",
      "Requirement already satisfied: packaging>=20.0 in /Users/henrylydecker/opt/anaconda3/envs/finetune/lib/python3.9/site-packages (from matplotlib>=3.2.2->-r yolov5/requirements.txt (line 4)) (21.3)\n",
      "Requirement already satisfied: certifi>=2017.4.17 in /Users/henrylydecker/opt/anaconda3/envs/finetune/lib/python3.9/site-packages (from requests>=2.23.0->-r yolov5/requirements.txt (line 9)) (2021.10.8)\n",
      "Requirement already satisfied: charset-normalizer~=2.0.0 in /Users/henrylydecker/opt/anaconda3/envs/finetune/lib/python3.9/site-packages (from requests>=2.23.0->-r yolov5/requirements.txt (line 9)) (2.0.12)\n",
      "Requirement already satisfied: urllib3<1.27,>=1.21.1 in /Users/henrylydecker/opt/anaconda3/envs/finetune/lib/python3.9/site-packages (from requests>=2.23.0->-r yolov5/requirements.txt (line 9)) (1.26.9)\n",
      "Requirement already satisfied: idna<4,>=2.5 in /Users/henrylydecker/opt/anaconda3/envs/finetune/lib/python3.9/site-packages (from requests>=2.23.0->-r yolov5/requirements.txt (line 9)) (3.3)\n",
      "Requirement already satisfied: typing-extensions in /Users/henrylydecker/opt/anaconda3/envs/finetune/lib/python3.9/site-packages (from torch>=1.7.0->-r yolov5/requirements.txt (line 11)) (4.2.0)\n",
      "Requirement already satisfied: google-auth<3,>=1.6.3 in /Users/henrylydecker/opt/anaconda3/envs/finetune/lib/python3.9/site-packages (from tensorboard>=2.4.1->-r yolov5/requirements.txt (line 16)) (2.6.6)\n",
      "Requirement already satisfied: markdown>=2.6.8 in /Users/henrylydecker/opt/anaconda3/envs/finetune/lib/python3.9/site-packages (from tensorboard>=2.4.1->-r yolov5/requirements.txt (line 16)) (3.3.6)\n",
      "Requirement already satisfied: protobuf>=3.9.2 in /Users/henrylydecker/opt/anaconda3/envs/finetune/lib/python3.9/site-packages (from tensorboard>=2.4.1->-r yolov5/requirements.txt (line 16)) (3.20.1)\n",
      "Requirement already satisfied: grpcio>=1.24.3 in /Users/henrylydecker/opt/anaconda3/envs/finetune/lib/python3.9/site-packages (from tensorboard>=2.4.1->-r yolov5/requirements.txt (line 16)) (1.46.0)\n",
      "Requirement already satisfied: absl-py>=0.4 in /Users/henrylydecker/opt/anaconda3/envs/finetune/lib/python3.9/site-packages (from tensorboard>=2.4.1->-r yolov5/requirements.txt (line 16)) (1.0.0)\n",
      "Requirement already satisfied: werkzeug>=1.0.1 in /Users/henrylydecker/opt/anaconda3/envs/finetune/lib/python3.9/site-packages (from tensorboard>=2.4.1->-r yolov5/requirements.txt (line 16)) (2.1.2)\n",
      "Requirement already satisfied: wheel>=0.26 in /Users/henrylydecker/opt/anaconda3/envs/finetune/lib/python3.9/site-packages (from tensorboard>=2.4.1->-r yolov5/requirements.txt (line 16)) (0.37.1)\n",
      "Requirement already satisfied: google-auth-oauthlib<0.5,>=0.4.1 in /Users/henrylydecker/opt/anaconda3/envs/finetune/lib/python3.9/site-packages (from tensorboard>=2.4.1->-r yolov5/requirements.txt (line 16)) (0.4.6)\n",
      "Requirement already satisfied: tensorboard-plugin-wit>=1.6.0 in /Users/henrylydecker/opt/anaconda3/envs/finetune/lib/python3.9/site-packages (from tensorboard>=2.4.1->-r yolov5/requirements.txt (line 16)) (1.8.1)\n",
      "Requirement already satisfied: tensorboard-data-server<0.7.0,>=0.6.0 in /Users/henrylydecker/opt/anaconda3/envs/finetune/lib/python3.9/site-packages (from tensorboard>=2.4.1->-r yolov5/requirements.txt (line 16)) (0.6.1)\n",
      "Requirement already satisfied: setuptools>=41.0.0 in /Users/henrylydecker/opt/anaconda3/envs/finetune/lib/python3.9/site-packages (from tensorboard>=2.4.1->-r yolov5/requirements.txt (line 16)) (61.2.0)\n",
      "Requirement already satisfied: pytz>=2020.1 in /Users/henrylydecker/opt/anaconda3/envs/finetune/lib/python3.9/site-packages (from pandas>=1.1.4->-r yolov5/requirements.txt (line 20)) (2022.1)\n",
      "Requirement already satisfied: six in /Users/henrylydecker/opt/anaconda3/envs/finetune/lib/python3.9/site-packages (from absl-py>=0.4->tensorboard>=2.4.1->-r yolov5/requirements.txt (line 16)) (1.16.0)\n",
      "Requirement already satisfied: cachetools<6.0,>=2.0.0 in /Users/henrylydecker/opt/anaconda3/envs/finetune/lib/python3.9/site-packages (from google-auth<3,>=1.6.3->tensorboard>=2.4.1->-r yolov5/requirements.txt (line 16)) (5.0.0)\n",
      "Requirement already satisfied: rsa<5,>=3.1.4 in /Users/henrylydecker/opt/anaconda3/envs/finetune/lib/python3.9/site-packages (from google-auth<3,>=1.6.3->tensorboard>=2.4.1->-r yolov5/requirements.txt (line 16)) (4.8)\n",
      "Requirement already satisfied: pyasn1-modules>=0.2.1 in /Users/henrylydecker/opt/anaconda3/envs/finetune/lib/python3.9/site-packages (from google-auth<3,>=1.6.3->tensorboard>=2.4.1->-r yolov5/requirements.txt (line 16)) (0.2.8)\n",
      "Requirement already satisfied: requests-oauthlib>=0.7.0 in /Users/henrylydecker/opt/anaconda3/envs/finetune/lib/python3.9/site-packages (from google-auth-oauthlib<0.5,>=0.4.1->tensorboard>=2.4.1->-r yolov5/requirements.txt (line 16)) (1.3.1)\n",
      "Requirement already satisfied: importlib-metadata>=4.4 in /Users/henrylydecker/opt/anaconda3/envs/finetune/lib/python3.9/site-packages (from markdown>=2.6.8->tensorboard>=2.4.1->-r yolov5/requirements.txt (line 16)) (4.11.3)\n",
      "Requirement already satisfied: zipp>=0.5 in /Users/henrylydecker/opt/anaconda3/envs/finetune/lib/python3.9/site-packages (from importlib-metadata>=4.4->markdown>=2.6.8->tensorboard>=2.4.1->-r yolov5/requirements.txt (line 16)) (3.8.0)\n",
      "Requirement already satisfied: pyasn1<0.5.0,>=0.4.6 in /Users/henrylydecker/opt/anaconda3/envs/finetune/lib/python3.9/site-packages (from pyasn1-modules>=0.2.1->google-auth<3,>=1.6.3->tensorboard>=2.4.1->-r yolov5/requirements.txt (line 16)) (0.4.8)\n",
      "Requirement already satisfied: oauthlib>=3.0.0 in /Users/henrylydecker/opt/anaconda3/envs/finetune/lib/python3.9/site-packages (from requests-oauthlib>=0.7.0->google-auth-oauthlib<0.5,>=0.4.1->tensorboard>=2.4.1->-r yolov5/requirements.txt (line 16)) (3.2.0)\n"
     ]
    }
   ],
   "source": [
    "!pip install -r yolov5/requirements.txt "
   ]
  },
  {
   "cell_type": "code",
   "execution_count": 9,
   "id": "343ce4a5-90dc-4f19-ad39-ad9510d81fad",
   "metadata": {},
   "outputs": [
    {
     "name": "stdout",
     "output_type": "stream",
     "text": [
      "Setup complete. Using torch 1.11.0 (CPU)\n"
     ]
    },
    {
     "data": {
      "text/plain": [
       "True"
      ]
     },
     "execution_count": 9,
     "metadata": {},
     "output_type": "execute_result"
    }
   ],
   "source": [
    "import torch\n",
    "import os\n",
    "import wandb\n",
    "print(f\"Setup complete. Using torch {torch.__version__} ({torch.cuda.get_device_properties(0).name if torch.cuda.is_available() else 'CPU'})\")\n",
    "\n",
    "wandb.login()"
   ]
  },
  {
   "cell_type": "code",
   "execution_count": 3,
   "id": "65d034b1-aa80-436a-8309-527379e17743",
   "metadata": {},
   "outputs": [
    {
     "name": "stdout",
     "output_type": "stream",
     "text": [
      "/Users/henrylydecker/Documents/projects/cv-demo/yolov5\n"
     ]
    }
   ],
   "source": [
    "%cd yolov5"
   ]
  },
  {
   "cell_type": "code",
   "execution_count": null,
   "id": "7cee0b1e-52ca-4276-82f2-0351b7bed0c7",
   "metadata": {},
   "outputs": [
    {
     "name": "stdout",
     "output_type": "stream",
     "text": [
      "\u001b[34m\u001b[1mwandb\u001b[0m: (1) Create a W&B account\n",
      "\u001b[34m\u001b[1mwandb\u001b[0m: (2) Use an existing W&B account\n",
      "\u001b[34m\u001b[1mwandb\u001b[0m: (3) Don't visualize my results\n",
      "\u001b[34m\u001b[1mwandb\u001b[0m: Enter your choice: (30 second timeout) "
     ]
    }
   ],
   "source": [
    "!python train.py --img 640 --batch 4 --epochs 25 --data face_masks.yaml --weights yolov5n.pt "
   ]
  },
  {
   "cell_type": "code",
   "execution_count": null,
   "id": "552727c0-fa0b-43a2-a62e-bf149b3a5132",
   "metadata": {},
   "outputs": [],
   "source": []
  }
 ],
 "metadata": {
  "kernelspec": {
   "display_name": "Python 3 (ipykernel)",
   "language": "python",
   "name": "python3"
  },
  "language_info": {
   "codemirror_mode": {
    "name": "ipython",
    "version": 3
   },
   "file_extension": ".py",
   "mimetype": "text/x-python",
   "name": "python",
   "nbconvert_exporter": "python",
   "pygments_lexer": "ipython3",
   "version": "3.9.12"
  }
 },
 "nbformat": 4,
 "nbformat_minor": 5
}
